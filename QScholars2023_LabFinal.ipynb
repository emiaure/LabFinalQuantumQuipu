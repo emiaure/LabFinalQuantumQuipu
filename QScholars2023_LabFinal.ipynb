{
 "cells": [
  {
   "cell_type": "markdown",
   "id": "26a95c84-7fd5-4eac-ad87-d72a990eab2e",
   "metadata": {},
   "source": [
    "<table width=\"100%\"><tr><td style=\"color:#bbbbbb;background-color:#ffffff;font-size:11px;font-style:italic;text-align:right;\"></td></tr></table>\n",
    "$ \\newcommand{\\bra}[1]{\\langle #1|} $\n",
    "$ \\newcommand{\\ket}[1]{|#1\\rangle} $\n",
    "$ \\newcommand{\\braket}[2]{\\langle #1|#2\\rangle} $\n",
    "$ \\newcommand{\\dot}[2]{ #1 \\cdot #2} $\n",
    "$ \\newcommand{\\biginner}[2]{\\left\\langle #1,#2\\right\\rangle} $\n",
    "$ \\newcommand{\\mymatrix}[2]{\\left( \\begin{array}{#1} #2\\end{array} \\right)} $\n",
    "$ \\newcommand{\\myvector}[1]{\\mymatrix{c}{#1}} $\n",
    "$ \\newcommand{\\myrvector}[1]{\\mymatrix{r}{#1}} $\n",
    "$ \\newcommand{\\mypar}[1]{\\left( #1 \\right)} $\n",
    "$ \\newcommand{\\mybigpar}[1]{ \\Big( #1 \\Big)} $\n",
    "$ \\newcommand{\\sqrttwo}{\\frac{1}{\\sqrt{2}}} $\n",
    "$ \\newcommand{\\dsqrttwo}{\\dfrac{1}{\\sqrt{2}}} $\n",
    "$ \\newcommand{\\onehalf}{\\frac{1}{2}} $\n",
    "$ \\newcommand{\\donehalf}{\\dfrac{1}{2}} $\n",
    "$ \\newcommand{\\hadamard}{ \\mymatrix{rr}{ \\sqrttwo & \\sqrttwo \\\\ \\sqrttwo & -\\sqrttwo }} $\n",
    "$ \\newcommand{\\vzero}{\\myvector{1\\\\0}} $\n",
    "$ \\newcommand{\\vone}{\\myvector{0\\\\1}} $\n",
    "$ \\newcommand{\\stateplus}{\\myvector{ \\sqrttwo \\\\  \\sqrttwo } } $\n",
    "$ \\newcommand{\\stateminus}{ \\myrvector{ \\sqrttwo \\\\ -\\sqrttwo } } $\n",
    "$ \\newcommand{\\myarray}[2]{ \\begin{array}{#1}#2\\end{array}} $\n",
    "$ \\newcommand{\\X}{ \\mymatrix{cc}{0 & 1 \\\\ 1 & 0}  } $\n",
    "$ \\newcommand{\\Z}{ \\mymatrix{rr}{1 & 0 \\\\ 0 & -1}  } $\n",
    "$ \\newcommand{\\Htwo}{ \\mymatrix{rrrr}{ \\frac{1}{2} & \\frac{1}{2} & \\frac{1}{2} & \\frac{1}{2} \\\\ \\frac{1}{2} & -\\frac{1}{2} & \\frac{1}{2} & -\\frac{1}{2} \\\\ \\frac{1}{2} & \\frac{1}{2} & -\\frac{1}{2} & -\\frac{1}{2} \\\\ \\frac{1}{2} & -\\frac{1}{2} & -\\frac{1}{2} & \\frac{1}{2} } } $\n",
    "$ \\newcommand{\\CNOT}{ \\mymatrix{cccc}{1 & 0 & 0 & 0 \\\\ 0 & 1 & 0 & 0 \\\\ 0 & 0 & 0 & 1 \\\\ 0 & 0 & 1 & 0} } $\n",
    "$ \\newcommand{\\norm}[1]{ \\left\\lVert #1 \\right\\rVert } $\n",
    "$ \\newcommand{\\pstate}[1]{ \\lceil \\mspace{-1mu} #1 \\mspace{-1.5mu} \\rfloor } $\n",
    "\n",
    "<center>\n",
    "<img src=\"https://media.discordapp.net/attachments/1126231743641428109/1138188172694650941/image.png?width=960&height=473\">"
   ]
  },
  {
   "cell_type": "markdown",
   "id": "482aa5db-992f-42db-8466-c3c5f4060ef7",
   "metadata": {},
   "source": [
    "    \n",
    "## <center> QUANTUM SCHOLARS 2023\n",
    "\n",
    "\n",
    "Autores: [Ricardo Quispe M.](https://github.com/RcrdPhysics).\\, Tony Milla y Gustavo Valdivia\n",
    "Institución: QuantumQuipu, Universidad Nacional Mayor de San Marcos\\\n",
    "Correo: ricardo.quispe5@unmsm.edu.pe, tony.milla@unmsm.edu.pe, gvaldiviamera@uh.edu\n",
    "    \n",
    "Este material está sujeto a los términos y condiciones de la licencia [Creative Commons CC BY-NC-SA 4.0](https://creativecommons.org/licenses/by-nc-sa/4.0/). Se permite el uso gratuito para cualquier propósito no comercial.\n",
    "\n",
    "*También puede consultar la última versión de este notebook en nuestro [repositorio](https://github.com/QuantumQuipu/QuantumScholars2023) y los videos de clase [en nuestro canal de Youtube](https://www.youtube.com/@quantumquipu-unmsm1091/streams).*\n",
    "    "
   ]
  },
  {
   "cell_type": "markdown",
   "id": "2398c92e-3b37-472d-9c60-fb98204efa25",
   "metadata": {},
   "source": [
    "Indicaciones:\n",
    "\n",
    "1.- Este notebook deberá ser enviado a través del siguiente formulario: https://forms.gle/LRtmmhvZZ85Cuq5t9\n",
    "\n",
    "2.- Fecha de entrega miércoles 16 de Agosto a las 18Hrs GMT-5\n",
    "\n",
    "3.- Deberá adjuntar toda su solución en un solo notebook. (Ya sea cálculos a mano en formato imagen, o visualizaciones externas)\n",
    "\n",
    "4.- Los problemas extra pueden reemplazar a cualquier problema dentro de la misma clase.\n",
    "\n"
   ]
  },
  {
   "cell_type": "markdown",
   "id": "a62492b4-4d9b-428f-9bec-8d5ad52004c3",
   "metadata": {},
   "source": [
    "## Clase 1-2:"
   ]
  },
  {
   "cell_type": "markdown",
   "id": "138e858b-69b2-4ba2-ac77-cf1410830d45",
   "metadata": {},
   "source": [
    "1.- ¿Cuál es el vector de estado de un sistema compuesto por 3 qubits , estando los qubits individuales(e independientes) en los estados  $|+\\rangle $ , $|+\\rangle $,$| -\\rangle $,? Luego hacer las mediciones parciales para el qubit central, repetir lo mismo con qiskit.\n",
    "\n"
   ]
  },
  {
   "cell_type": "markdown",
   "id": "eb6c3ed0",
   "metadata": {},
   "source": [
    "**Respuesta**\n",
    "\n",
    "Para conocer el vector de estado, como tenemos un sistema compuesto, tenemos que hacer el producto tensorial de los qubits. Si  $ |\\Psi \\rangle $ es el vector del sistema entonces:\n",
    "\n",
    "$$ |\\Psi \\rangle = |+\\rangle \\otimes |+\\rangle \\otimes | -\\rangle = \\frac{1}{\\sqrt{2}}(|1\\rangle + |0\\rangle) \\otimes \\frac{1}{\\sqrt{2}}(|1\\rangle + |0\\rangle) \\otimes \\frac{1}{\\sqrt{2}}(|0\\rangle - |1\\rangle)= \\frac{1}{2\\sqrt{2}} (|1\\rangle + |0\\rangle)\\otimes (|00\\rangle + |10\\rangle-|01\\rangle - |11\\rangle) $$\n",
    "$$\\rightarrow |\\Psi \\rangle =   \\frac{1}{2\\sqrt{2}} (|000\\rangle + |010\\rangle-|001\\rangle - |011\\rangle + |100\\rangle + |110\\rangle-|101\\rangle - |111\\rangle) $$"
   ]
  },
  {
   "cell_type": "markdown",
   "id": "2615fdc3",
   "metadata": {},
   "source": [
    "Para hacer la medición parcial podemos volver al producto tensorial pues este ya tiene separado cada qubit. \n",
    "$$ |\\Psi \\rangle = |+\\rangle \\otimes |+\\rangle \\otimes | -\\rangle = \\frac{1}{\\sqrt{2}}|+\\rangle \\otimes |0\\rangle \\otimes | -\\rangle + \\frac{1}{\\sqrt{2}}|+\\rangle \\otimes |1\\rangle \\otimes | -\\rangle $$\n",
    "$$ =(\\frac{1}{2}|1\\rangle+ \\frac{1}{2}|0\\rangle) \\otimes |0\\rangle \\otimes (\\frac{1}{\\sqrt{2}}|0\\rangle- \\frac{1}{\\sqrt{2}}|1\\rangle) +  (\\frac{1}{2}|1\\rangle+ \\frac{1}{2}|0\\rangle) \\otimes |1\\rangle \\otimes (\\frac{1}{\\sqrt{2}}|0\\rangle- \\frac{1}{\\sqrt{2}}|1\\rangle) $$\n",
    "\n",
    "Entonces las probabilidades para el qubit central son\n",
    "\n",
    "\n",
    "$$P_{0} = (| \\frac{1}{2} |^{2} + |\\frac{1}{2}|^{2})(| \\frac{1}{\\sqrt{2}} |^{2} + |-\\frac{1}{\\sqrt{2}}|^{2}) = \\frac{1}{2}$$\n",
    "$$P_{1} = (| \\frac{1}{2} |^{2} + |\\frac{1}{2}|^{2})(| \\frac{1}{\\sqrt{2}} |^{2} + |-\\frac{1}{\\sqrt{2}}|^{2}) = \\frac{1}{2}$$"
   ]
  },
  {
   "cell_type": "markdown",
   "id": "a8070a23",
   "metadata": {},
   "source": [
    "**Ahora en Qiskit**\n",
    " \n",
    "El estado lo podemos calcular directamente"
   ]
  },
  {
   "cell_type": "code",
   "execution_count": 1,
   "id": "f2b54b7b",
   "metadata": {},
   "outputs": [
    {
     "data": {
      "text/latex": [
       "$$\\frac{\\sqrt{2}}{4} |000\\rangle- \\frac{\\sqrt{2}}{4} |001\\rangle+\\frac{\\sqrt{2}}{4} |010\\rangle- \\frac{\\sqrt{2}}{4} |011\\rangle+\\frac{\\sqrt{2}}{4} |100\\rangle- \\frac{\\sqrt{2}}{4} |101\\rangle+\\frac{\\sqrt{2}}{4} |110\\rangle- \\frac{\\sqrt{2}}{4} |111\\rangle$$"
      ],
      "text/plain": [
       "<IPython.core.display.Latex object>"
      ]
     },
     "execution_count": 1,
     "metadata": {},
     "output_type": "execute_result"
    }
   ],
   "source": [
    "from qiskit.quantum_info import Statevector\n",
    "ket = Statevector.from_label('++-')\n",
    "ket.draw('Latex')"
   ]
  },
  {
   "cell_type": "markdown",
   "id": "ceba3c12",
   "metadata": {},
   "source": [
    "Las probabilidades parciales son:"
   ]
  },
  {
   "cell_type": "code",
   "execution_count": 2,
   "id": "d5188b35",
   "metadata": {},
   "outputs": [
    {
     "name": "stdout",
     "output_type": "stream",
     "text": [
      "probs: {'0': 0.4999999999999998, '1': 0.4999999999999998}\n"
     ]
    }
   ],
   "source": [
    "probs = ket.probabilities_dict([1])\n",
    "print('probs: {}'.format(probs))"
   ]
  },
  {
   "cell_type": "markdown",
   "id": "663ed7a7",
   "metadata": {},
   "source": [
    "2.- ¿Cuántos qubits independientes tiene como mínimo el siguiente sistema?\n",
    "\n",
    "<center>\n",
    "<img src=\"https://raw.githubusercontent.com/tonymilla/QuantumScholars2023/main/imagenes/examen/q_spherequestion.png\">\n"
   ]
  },
  {
   "cell_type": "markdown",
   "id": "f2f8f56d",
   "metadata": {},
   "source": [
    "**Respuesta**\n",
    "\n",
    "4 qubits pues tenemos 5 cantidades de unos posibles, vamos de cero unos (0000) en el polo norte a 4 unos (1111) en el polo sur"
   ]
  },
  {
   "cell_type": "markdown",
   "id": "566b4590",
   "metadata": {},
   "source": [
    "3.- ¿Cómo se escribiría en notación de Dirac una compuerta CU3 desarrollalo e implementalo en qiskit para $\\theta = \\pi$, $\\phi = \\frac{\\pi}{2}$ y $\\lambda = \\frac{7\\pi}{2}$ "
   ]
  },
  {
   "cell_type": "markdown",
   "id": "d5d6cabe",
   "metadata": {},
   "source": [
    "**Respuesta**\n",
    "\n",
    "Partimos de la definición genérica de una compuerta controlada \n",
    "$$CU3 = |  0 \\rangle \\langle 0 | \\otimes I + | 1\\rangle \\langle  1| \\otimes U3  $$\n",
    "Ahora, como $\\theta = \\pi$, $\\phi = \\frac{\\pi}{2}$ y $\\lambda = \\frac{7\\pi}{2}$ , $U3$ se convierte en lo siguiente:\n",
    "$$ U3(\\pi, \\frac{\\pi}{2}, \\frac{7\\pi}{2}) =  \\begin{pmatrix} \\cos(\\frac{\\pi}{2})  & - e^{i\\frac{7\\pi}{2}}\\sin(\\frac{\\pi}{2})\\\\\n",
    " e^{i\\frac{\\pi}{2}}\\sin(\\frac{\\pi}{2})  &  e^{i(\\frac{\\pi}{2} + \\frac{7\\pi}{2})}\\cos(\\frac{\\pi}{2}) \\end{pmatrix}= \\begin{pmatrix} 0 & -i(sin(\\frac{7\\pi}{2})) \\\\ isin(\\frac{\\pi}{2}) & 0 \\end{pmatrix} = \\begin{pmatrix} 0 & i \\\\ i & 0 \\end{pmatrix} \n",
    "$$"
   ]
  },
  {
   "cell_type": "markdown",
   "id": "6b16f9d0",
   "metadata": {},
   "source": [
    "Esta compuerta en notación de Dirac se puede escribir como \n",
    "$$U3 = i|  0 \\rangle \\langle 1 | + i| 1\\rangle \\langle  0| "
   ]
  },
  {
   "cell_type": "markdown",
   "id": "96c12378",
   "metadata": {},
   "source": [
    "Por lo tanto, la versión controlada , utilizando que $ I = |  0 \\rangle \\langle 0 | + | 1\\rangle \\langle  1| $ se escribe en notación de Dirac como\n",
    "$$ CU3 = |  0 \\rangle \\langle 0 | \\otimes (|  0 \\rangle \\langle 0 | + | 1\\rangle \\langle  1|) + | 1\\rangle \\langle  1| \\otimes (i|  0 \\rangle \\langle 1 | + i| 1\\rangle \\langle  0|)   = |  00 \\rangle \\langle 00 | + |  01 \\rangle \\langle 01 |+ i|  11 \\rangle \\langle 10 |+ i|  10 \\rangle \\langle 11 |$$\n"
   ]
  },
  {
   "cell_type": "markdown",
   "id": "de9fa988",
   "metadata": {},
   "source": [
    "**Implementación en Qiskit**"
   ]
  },
  {
   "cell_type": "code",
   "execution_count": 3,
   "id": "d9ce7bb8",
   "metadata": {},
   "outputs": [
    {
     "data": {
      "image/png": "[encoded data removed]",
      "text/plain": [
       "<Figure size 305.323x200.667 with 1 Axes>"
      ]
     },
     "execution_count": 3,
     "metadata": {},
     "output_type": "execute_result"
    }
   ],
   "source": [
    "import numpy as np\n",
    "from qiskit import QuantumCircuit, QuantumRegister\n",
    "from qiskit.circuit.library.standard_gates import UGate\n",
    "from qiskit import BasicAer\n",
    "from qiskit.execute_function import execute\n",
    "qr = QuantumRegister(2)\n",
    "qc = QuantumCircuit(qr)\n",
    "c3h_gate = UGate(np.pi,np.pi/2,7*np.pi/2).control(1)\n",
    "qc.append(c3h_gate, [qr[0], qr[1]])\n",
    "qc.draw('mpl')"
   ]
  },
  {
   "cell_type": "markdown",
   "id": "ae18a2db",
   "metadata": {},
   "source": [
    "Hasta este momento, tenemos un circuito con la compuerta implementada. "
   ]
  },
  {
   "cell_type": "markdown",
   "id": "ff3f1b89",
   "metadata": {},
   "source": [
    "Notemos que por el orden de los productos en Qiskit, esta compuerta tiene la siguiente notación de Dirac \n",
    "$$ CU3  = |  00 \\rangle \\langle 00 | + i|  11 \\rangle \\langle 01 |+ |  10 \\rangle \\langle 10 |+ i|  01 \\rangle \\langle 11 |$$"
   ]
  },
  {
   "cell_type": "markdown",
   "id": "550be33c",
   "metadata": {},
   "source": [
    "Podemos comprobar la compuerta utilizando unitary Simulator "
   ]
  },
  {
   "cell_type": "code",
   "execution_count": 4,
   "id": "90a27ab1",
   "metadata": {},
   "outputs": [
    {
     "data": {
      "text/plain": [
       "array([[ 1.0000000e+00+0.00000000e+00j,  0.0000000e+00+0.00000000e+00j,\n",
       "         0.0000000e+00+0.00000000e+00j,  0.0000000e+00+0.00000000e+00j],\n",
       "       [ 0.0000000e+00+0.00000000e+00j,  0.0000000e+00+0.00000000e+00j,\n",
       "         0.0000000e+00+0.00000000e+00j,  1.8369702e-16+1.00000000e+00j],\n",
       "       [ 0.0000000e+00+0.00000000e+00j,  0.0000000e+00+0.00000000e+00j,\n",
       "         1.0000000e+00+1.23259516e-32j,  0.0000000e+00+0.00000000e+00j],\n",
       "       [ 0.0000000e+00+0.00000000e+00j, -1.8369702e-16+1.00000000e+00j,\n",
       "         0.0000000e+00+0.00000000e+00j,  0.0000000e+00+0.00000000e+00j]])"
      ]
     },
     "execution_count": 4,
     "metadata": {},
     "output_type": "execute_result"
    }
   ],
   "source": [
    "backend = BasicAer.get_backend('unitary_simulator')\n",
    "job = execute(qc, backend)\n",
    "result = job.result()\n",
    "unitary_mat = result.get_unitary()\n",
    "unitary_mat"
   ]
  },
  {
   "cell_type": "markdown",
   "id": "89630f1c-3b70-453a-b68d-6f77afb99883",
   "metadata": {},
   "source": [
    "## Clase 4-5"
   ]
  },
  {
   "cell_type": "markdown",
   "id": "9adfd07d-6fc3-4cc2-a491-211e46026c6c",
   "metadata": {},
   "source": [
    "4.- A partir de la relación existente entre la operación (módulo 2) y el operador XOR ($\\oplus$). Mostrar:\n",
    "\n",
    "\\begin{align}\n",
    "\\sum_{i=1}^n x_iz_i \\pmod 2=x_1z_1\\oplus x_2z_2\\oplus\\cdots\\oplus x_nz_n\n",
    "\\end{align}"
   ]
  },
  {
   "cell_type": "markdown",
   "id": "5547c479",
   "metadata": {},
   "source": [
    "**Respuesta**"
   ]
  },
  {
   "cell_type": "markdown",
   "id": "9fbe627e",
   "metadata": {},
   "source": [
    "<img src=\"ejercicio4.png\" />"
   ]
  },
  {
   "cell_type": "markdown",
   "id": "007836a1",
   "metadata": {},
   "source": [
    "5.- Implementa el código para la función oráculo balanceado con $n=3$, la cual retorna el circuito cuántico qc. Considere que $f(x)$ está dado por:\n",
    "\n",
    "\\begin{align}\n",
    "f(001)&=0\\\\\n",
    "f(000)&=0\\\\\n",
    "f(111)&=0\\\\\n",
    "f(110)&=0\\\\\n",
    "f(011)&=1\\\\\n",
    "f(010)&=1\\\\\n",
    "f(100)&=1\\\\\n",
    "f(101)&=1\\\\\n",
    "\\end{align}"
   ]
  },
  {
   "cell_type": "markdown",
   "id": "c2c2cf0d",
   "metadata": {},
   "source": [
    "**Respuesta**"
   ]
  },
  {
   "cell_type": "markdown",
   "id": "f5cc4154",
   "metadata": {},
   "source": [
    "Para facilitar la lectura del oráculo decidí invertir el orden de los qubits en el ejemplo. La impresión toma esto en cuenta y así podemos saber como un estado es transformado por el oráculo de manera más directa. El qubit auxiliar es el qubit 0 recordando que el producto en qiskit será $q_3q_2q_1q_0$"
   ]
  },
  {
   "cell_type": "code",
   "execution_count": 5,
   "id": "145173aa",
   "metadata": {},
   "outputs": [
    {
     "data": {
      "text/html": [
       "<pre style=\"word-wrap: normal;white-space: pre;background: #fff0;line-height: 1.1;font-family: &quot;Courier New&quot;,Courier,monospace\">           ░                 ░       ░ \n",
       "q_3: ──────░─────────────■───░───────░─\n",
       "     ┌───┐ ░             │   ░ ┌───┐ ░ \n",
       "q_2: ┤ X ├─░────────■────┼───░─┤ X ├─░─\n",
       "     └─┬─┘ ░        │    │   ░ └─┬─┘ ░ \n",
       "q_1: ──■───░───■────┼────┼───░───■───░─\n",
       "           ░ ┌─┴─┐┌─┴─┐┌─┴─┐ ░       ░ \n",
       "q_0: ──────░─┤ X ├┤ X ├┤ X ├─░───────░─\n",
       "           ░ └───┘└───┘└───┘ ░       ░ </pre>"
      ],
      "text/plain": [
       "           ░                 ░       ░ \n",
       "q_3: ──────░─────────────■───░───────░─\n",
       "     ┌───┐ ░             │   ░ ┌───┐ ░ \n",
       "q_2: ┤ X ├─░────────■────┼───░─┤ X ├─░─\n",
       "     └─┬─┘ ░        │    │   ░ └─┬─┘ ░ \n",
       "q_1: ──■───░───■────┼────┼───░───■───░─\n",
       "           ░ ┌─┴─┐┌─┴─┐┌─┴─┐ ░       ░ \n",
       "q_0: ──────░─┤ X ├┤ X ├┤ X ├─░───────░─\n",
       "           ░ └───┘└───┘└───┘ ░       ░ "
      ]
     },
     "execution_count": 5,
     "metadata": {},
     "output_type": "execute_result"
    }
   ],
   "source": [
    "from qiskit import QuantumRegister, ClassicalRegister, QuantumCircuit\n",
    "from qiskit.visualization import plot_histogram\n",
    "from qiskit import execute, Aer\n",
    "import numpy as np\n",
    "\n",
    "qc = QuantumCircuit(4)\n",
    "\n",
    "qc.cx(1,2)\n",
    "qc.barrier()\n",
    "\n",
    "for x in range(1,4):\n",
    "    qc.cx(x,0)\n",
    "\n",
    "qc.barrier()\n",
    "qc.cx(1,2)\n",
    "qc.barrier()\n",
    "#qc es nuestro oráculo terminado \n",
    "#Invertimos los qubits en la impresión para que el dibujo coincida con los ejemplos. \n",
    "qc.draw(reverse_bits=True)"
   ]
  },
  {
   "cell_type": "markdown",
   "id": "65c6e0ef",
   "metadata": {},
   "source": [
    "6.- En la construcción más simple posible de un oráculo balanceado, se utiliza la compuerta $CX$, la cual toma como objetivo el $(n+1)$-ésimo qubit del circuito y como control cada uno de los $n$ primeros qubits. Sin embargo, ¿es realmente necesario aplicar $CX$ a todos los $n$ primeros qubits, o podríamos prescindir de algunos y obtener igualmente un oráculo balanceado?\n"
   ]
  },
  {
   "cell_type": "markdown",
   "id": "1dff9419",
   "metadata": {},
   "source": [
    "7.- Implemente el algoritmo de Grover para determinar la máxima cantidad de aristas en un grafo de 5 nodos y 6 aristas:\n",
    "\n",
    "\\begin{align}\n",
    "(0,3)\\\\\n",
    "(0,4)\\\\\n",
    "(1,3)\\\\\n",
    "(1,4)\\\\\n",
    "(2,3)\\\\\n",
    "(2,4)\\\\\n",
    "\\end{align}"
   ]
  },
  {
   "cell_type": "markdown",
   "id": "b59486c0",
   "metadata": {},
   "source": [
    "**Respuesta**\n",
    "\n",
    "Este es todo el código, son básicamente las mismas funciones que las del notebook original. En este caso como esperamos dos soluciones y tenemos $n=5$, k tiene que ser 3."
   ]
  },
  {
   "cell_type": "code",
   "execution_count": 6,
   "id": "2d3c4487",
   "metadata": {},
   "outputs": [],
   "source": [
    "from qiskit import QuantumRegister, ClassicalRegister, QuantumCircuit\n",
    "from qiskit.circuit.library import XGate,ZGate\n",
    "from qiskit.visualization import plot_histogram\n",
    "from qiskit import execute, Aer"
   ]
  },
  {
   "cell_type": "code",
   "execution_count": 7,
   "id": "803170a6",
   "metadata": {},
   "outputs": [],
   "source": [
    "def oracle_part(qc,qr):\n",
    "    mcx = XGate().control(3)\n",
    "    \n",
    "    #Los qubits del 0 al 3 son los nodos.\n",
    "    #Los qubits del 4 al 8 nos permiten reconocer si la arista es correcta\n",
    "    #(i.e. si se da entre nodos de distinto color).\n",
    "    qc.cx(qr[0], qr[5])\n",
    "    qc.cx(qr[3], qr[5])\n",
    "    qc.barrier()\n",
    "    qc.cx(qr[0], qr[6])\n",
    "    qc.cx(qr[4], qr[6])\n",
    "    qc.barrier()\n",
    "    qc.cx(qr[1], qr[7])\n",
    "    qc.cx(qr[3], qr[7])\n",
    "    qc.barrier()\n",
    "    qc.cx(qr[1], qr[8])\n",
    "    qc.cx(qr[4], qr[8])\n",
    "    qc.barrier()\n",
    "    qc.cx(qr[2], qr[9])\n",
    "    qc.cx(qr[3], qr[9])\n",
    "    qc.barrier()\n",
    "    qc.cx(qr[2], qr[10])\n",
    "    qc.cx(qr[4], qr[10])\n",
    "    qc.barrier()\n",
    "    #Los qubits del 9 al 11 nos van a permitir contar la cantidad de aristas correctas\n",
    "    #de tal forma que la suma será expresada en binario con cifras dadas por q_11, q_10 y q_9.\n",
    "    \n",
    "    qc.barrier()    \n",
    "    qc.cx(qr[5],qr[11])\n",
    "    qc.barrier()\n",
    "    \n",
    "    qc.ccx(qr[6], qr[11], qr[12])\n",
    "    qc.cx(qr[6],qr[11])\n",
    "    qc.barrier()\n",
    "    \n",
    "    qc.ccx(qr[7], qr[11], qr[12])\n",
    "    qc.cx(qr[7],qr[11])\n",
    "    qc.barrier()\n",
    "    \n",
    "    qc.append(mcx,[8,11,12,13])\n",
    "    qc.ccx(qr[8], qr[11], qr[12])\n",
    "    qc.cx(qr[8],qr[11])\n",
    "    qc.barrier()\n",
    "    \n",
    "    qc.append(mcx,[9,11,12,13])\n",
    "    qc.ccx(qr[9], qr[11], qr[12])\n",
    "    qc.cx(qr[9],qr[11])\n",
    "    qc.barrier()\n",
    "    \n",
    "    qc.append(mcx,[10,11,12,13])\n",
    "    qc.ccx(qr[10], qr[11], qr[12])\n",
    "    qc.cx(qr[10],qr[11])\n",
    "    qc.barrier()\n",
    "\n",
    "    qc.x(qr[11])\n",
    "    qc.barrier()\n",
    "    \n",
    "    #El qubit 14 indicará cuando se haya encontrado un estado deseado\n",
    "    qc.append(mcx,[11,12,13,14])\n",
    "    \n",
    "    return qc"
   ]
  },
  {
   "cell_type": "code",
   "execution_count": 8,
   "id": "099c2bb7",
   "metadata": {},
   "outputs": [],
   "source": [
    "def oracle(qc,qr):\n",
    "    \n",
    "    qc=oracle_part(qc,qr)\n",
    "    qc1=qc.inverse()\n",
    "    qc.z(14)\n",
    "    qc.compose(qc1,inplace=True)\n",
    "    \n",
    "    return qc"
   ]
  },
  {
   "cell_type": "code",
   "execution_count": 9,
   "id": "d44c8d6b",
   "metadata": {},
   "outputs": [],
   "source": [
    "#Aquí quito el draw porque son circuitos muy largos\n",
    "qr=QuantumRegister(15)\n",
    "qc=QuantumCircuit(qr)"
   ]
  },
  {
   "cell_type": "code",
   "execution_count": 10,
   "id": "9526e950",
   "metadata": {},
   "outputs": [],
   "source": [
    "#Aquí como tenemos n=5, cambie ese entero en la difusión \n",
    "def grover_diffusion(qc,qr):\n",
    "    mcz = ZGate().control(4)\n",
    "    \n",
    "    qc.barrier()\n",
    "    qc.h(range(5))\n",
    "    qc.x(range(5))\n",
    "    qc.append(mcz,list(range(0,5)))\n",
    "    qc.x(range(5))\n",
    "    qc.h(range(5))\n",
    "    qc.barrier()\n",
    "    return qc"
   ]
  },
  {
   "cell_type": "code",
   "execution_count": 11,
   "id": "7fa6cb02",
   "metadata": {},
   "outputs": [
    {
     "data": {
      "text/plain": [
       "<qiskit.circuit.instructionset.InstructionSet at 0x24ed088abc0>"
      ]
     },
     "execution_count": 11,
     "metadata": {},
     "output_type": "execute_result"
    }
   ],
   "source": [
    "def grover(qc,qr):\n",
    "    return grover_diffusion(oracle(qc,qr),qr)\n",
    "qr=QuantumRegister(15)\n",
    "qc=QuantumCircuit(qr)\n",
    "\n",
    "qra=QuantumRegister(15)\n",
    "cra=ClassicalRegister(5)\n",
    "qa=QuantumCircuit(qra,cra)\n",
    "\n",
    "qa.h(range(5))\n",
    "#qb=grover(qc,qr)\n",
    "#qb=grover(qc,qr)\n",
    "#qb=grover(qc,qr)\n",
    "qb=grover(qc,qr)\n",
    "qa.compose(qb.compose(qb).compose(qb),inplace=True) #El doble compose es para que el oráculo de Grover se ejecute 3 veces\n",
    "#qa.compose(qb, inplace=True)\n",
    "qa.measure(range(5),cra)\n",
    "\n",
    "#qa.draw()"
   ]
  },
  {
   "cell_type": "markdown",
   "id": "06c9d6c8",
   "metadata": {},
   "source": [
    "Ahora la ejecucón"
   ]
  },
  {
   "cell_type": "code",
   "execution_count": 12,
   "id": "1dda57d5",
   "metadata": {},
   "outputs": [
    {
     "data": {
      "image/png": "[encoded data removed]",
      "text/plain": [
       "<Figure size 700x500 with 1 Axes>"
      ]
     },
     "execution_count": 12,
     "metadata": {},
     "output_type": "execute_result"
    }
   ],
   "source": [
    "qasm_simulator = Aer.get_backend('qasm_simulator')\n",
    "\n",
    "job = execute(qa, qasm_simulator, shots = 1000)\n",
    "counts = job.result().get_counts(qa)\n",
    "\n",
    "plot_histogram(counts)"
   ]
  },
  {
   "cell_type": "markdown",
   "id": "fa21afeb-2e1e-4ad8-bba5-e3f8deeaa1ce",
   "metadata": {},
   "source": [
    "8.- En el algoritmo de Grover, determine el número de veces que debe ejercutarse el par $U_\\omega U_f$ para que el estado final de nuestro circuito coincida con el Ket de estados deseados sabiendo que $x\\in\\{0,1\\}^5$ y hay 4 estados que sastifacen las características de búsqueda."
   ]
  },
  {
   "cell_type": "markdown",
   "id": "18f40f56",
   "metadata": {},
   "source": [
    "**Respuesta** \n",
    "\n",
    "Aplicamos la fórmula $k= \\frac{\\pi}{4}\\sqrt{\\frac{2^n}{a}}$ con $n=5$ y $a=4$\n",
    "Entonces, $k= \\frac{\\pi}{4}\\sqrt{\\frac{2^5}{4}} = 2.22$ Como k debe ser entero lo dejamos en $k=2$ , por lo que  necesitamos ejecutar el par $U_\\omega U_f$  2 veces "
   ]
  },
  {
   "cell_type": "markdown",
   "id": "fe6a0a56-4c1a-4307-bca1-ce168a444190",
   "metadata": {},
   "source": [
    "Extra 1.- Si\n",
    "\n",
    "\\begin{align}\n",
    "\\ket{\\psi3}&=U\\omega\\ket{\\psi_2}\\\n",
    "&=\\left(2\\ket{s}\\bra{s}-\\mathbb{I}\\right)\\left(-\\sqrt{\\frac{a}{2^n}}\\ket{A}+\\sqrt{\\frac{b}{2^n}}\\ket{B}\\right)\n",
    "\\end{align}\n",
    "\n",
    "Usando\n",
    "\\begin{align}\n",
    "\\ket{s}\\bra{s}=\\frac{a}{2^n}\\ket{A}\\bra{A}+\\frac{b}{2^n}\\ket{B}\\bra{B}+\\frac{\\sqrt{ab}}{2^n}\\left[\\ket{A}\\bra{B}+\\ket{B}\\bra{A}\\right]\n",
    "\\end{align}\n",
    "\n",
    "\\begin{align}\n",
    "&\\sin\\theta=\\sqrt{\\frac{a}{2^n}}\\\n",
    "&\\cos\\theta=\\sqrt{\\frac{b}{2^n}}\n",
    "\\end{align}\n",
    "\n",
    "Demuestre:\n",
    "\\begin{align}\n",
    "\\ket{\\psi_3}=\\sin 3\\theta\\ket{A}+\\cos 3\\theta\\ket{B}\n",
    "\\end{align}"
   ]
  },
  {
   "cell_type": "markdown",
   "id": "7ea0334b",
   "metadata": {},
   "source": [
    "**Respuesta**"
   ]
  },
  {
   "cell_type": "markdown",
   "id": "85b072df",
   "metadata": {},
   "source": [
    "<img src=\"extra1.png\" />"
   ]
  },
  {
   "cell_type": "markdown",
   "id": "e6354b0b",
   "metadata": {},
   "source": [
    "<img src=\"extra2.png\" />"
   ]
  },
  {
   "cell_type": "markdown",
   "id": "82a0a443-064c-4a24-8df7-33008ba3790a",
   "metadata": {},
   "source": [
    "## Clase 6:"
   ]
  },
  {
   "cell_type": "markdown",
   "id": "05ba4e37-34a3-4fc7-8ccd-46d2ced4a0d1",
   "metadata": {},
   "source": [
    "9.- La implementación de QFT se probó preparando el estado de Fourier $|\\widetilde{5}\\rangle$ para el cual $\\text{QFT}^{\\dagger}|\\widetilde{5}\\rangle= |101\\rangle$. Intenta encontrar el estado $|a\\rangle$ tal que $\\text{QFT}^{\\dagger}|a\\rangle = |100\\rangle$."
   ]
  },
  {
   "cell_type": "markdown",
   "id": "ec8b47ed",
   "metadata": {},
   "source": [
    "**Respuesta**\n",
    "\n",
    "La transformada de Fourier nos manda a la base de Fourier con números enteros como etiquetas de manera que la etiqueta de Fourier coincide con la representación decimal de la etiqueta del estado de la base computacional. Una forma de convertir entre estas etiquetas es con las funciones int() y bin() de Python. \n",
    "Para conocer el estado $|a\\rangle$ tal que $\\text{QFT}^{\\dagger}|a\\rangle = |100\\rangle$ tenemos que encontrar el estado en la base de fourier cuya representación binaria de como resultado 100 "
   ]
  },
  {
   "cell_type": "code",
   "execution_count": 13,
   "id": "5eb2ef9b",
   "metadata": {},
   "outputs": [
    {
     "data": {
      "text/plain": [
       "4"
      ]
     },
     "execution_count": 13,
     "metadata": {},
     "output_type": "execute_result"
    }
   ],
   "source": [
    "int(0b100)"
   ]
  },
  {
   "cell_type": "markdown",
   "id": "62a0861c",
   "metadata": {},
   "source": [
    "Encontramos que el estado debe ser $|\\widetilde{4}\\rangle$"
   ]
  },
  {
   "cell_type": "markdown",
   "id": "9da705a0",
   "metadata": {},
   "source": [
    "10.- Encuentra el estado $|b\\rangle$ tal que $\\text{QFT}^{\\dagger}|b\\rangle = |011\\rangle$."
   ]
  },
  {
   "cell_type": "markdown",
   "id": "2a5ffa17",
   "metadata": {},
   "source": [
    "**Respuesta**"
   ]
  },
  {
   "cell_type": "markdown",
   "id": "ace33d51",
   "metadata": {},
   "source": [
    "Ahora buscamos la representación decimal de 011, esto lo realizamos en Python"
   ]
  },
  {
   "cell_type": "code",
   "execution_count": 14,
   "id": "edb9a858",
   "metadata": {},
   "outputs": [
    {
     "data": {
      "text/plain": [
       "3"
      ]
     },
     "execution_count": 14,
     "metadata": {},
     "output_type": "execute_result"
    }
   ],
   "source": [
    "int(0b011)"
   ]
  },
  {
   "cell_type": "markdown",
   "id": "04560741",
   "metadata": {},
   "source": [
    "Encontramos que el estado debe ser $|\\widetilde{3}\\rangle$"
   ]
  },
  {
   "cell_type": "markdown",
   "id": "151af080",
   "metadata": {},
   "source": [
    "Extra 3. Intente escribir la función QFT sin recursividad. Utilice el simulador unitario de Qiskit para verificar sus resultados."
   ]
  },
  {
   "cell_type": "markdown",
   "id": "28b7e283",
   "metadata": {},
   "source": [
    "**Respuesta**"
   ]
  },
  {
   "cell_type": "markdown",
   "id": "56a70a9a",
   "metadata": {},
   "source": [
    "Tomé las funciones básicas del notebook de QFT"
   ]
  },
  {
   "cell_type": "code",
   "execution_count": 15,
   "id": "c4dc9458",
   "metadata": {},
   "outputs": [],
   "source": [
    "#librerias necesarias\n",
    "import numpy as np\n",
    "from numpy import pi\n",
    "# importing Qiskit\n",
    "from qiskit import QuantumCircuit, transpile, Aer, IBMQ, execute\n",
    "from qiskit.providers.ibmq import least_busy\n",
    "from qiskit.tools.monitor import job_monitor"
   ]
  },
  {
   "cell_type": "markdown",
   "id": "c76ab2bb",
   "metadata": {},
   "source": [
    "La transformada se realiza abajo, n es el número de qubits"
   ]
  },
  {
   "cell_type": "code",
   "execution_count": 16,
   "id": "de3443ad",
   "metadata": {},
   "outputs": [
    {
     "data": {
      "text/plain": [
       "<qiskit.circuit.quantumcircuit.QuantumCircuit at 0x24efb05f850>"
      ]
     },
     "execution_count": 16,
     "metadata": {},
     "output_type": "execute_result"
    }
   ],
   "source": [
    "def qft_rotations(circuit, n):\n",
    "    if n == 0: # Exit function if circuit is empty\n",
    "        return circuit\n",
    "    n -= 1 # Indexes start from 0\n",
    "    circuit.h(n) # Apply the H-gate to the most significant qubit\n",
    "    for qubit in range(n):\n",
    "        # For each less significant qubit, we need to do a\n",
    "        # smaller-angled controlled rotation: \n",
    "        circuit.cp(pi/2**(n-qubit), qubit, n)\n",
    "#n es el número de qubits\n",
    "n=2\n",
    "qc = QuantumCircuit(n)\n",
    "#Para no utilizar recursividad, utilicé un ciclo for \n",
    "for i in range(0,n):\n",
    "    qft_rotations(qc,n-i)\n",
    "\n",
    "def swap_registers(circuit, n):\n",
    "    for qubit in range(n//2):\n",
    "        circuit.swap(qubit, n-qubit-1)\n",
    "    return circuit\n",
    "swap_registers(qc,n)\n",
    "#qc.draw()"
   ]
  },
  {
   "cell_type": "markdown",
   "id": "a9c0b2d0",
   "metadata": {},
   "source": [
    "Aquí realizamos la matriz unitaria "
   ]
  },
  {
   "cell_type": "code",
   "execution_count": 17,
   "id": "2c02c8f9",
   "metadata": {},
   "outputs": [
    {
     "data": {
      "text/plain": [
       "Operator([[ 5.00000000e-01+0.0000000e+00j,  5.00000000e-01-6.1232340e-17j,\n",
       "            5.00000000e-01-6.1232340e-17j,  5.00000000e-01-1.2246468e-16j],\n",
       "          [ 5.00000000e-01+0.0000000e+00j,  9.18485099e-17+5.0000000e-01j,\n",
       "           -5.00000000e-01+6.1232340e-17j, -1.53080850e-16-5.0000000e-01j],\n",
       "          [ 5.00000000e-01+0.0000000e+00j, -5.00000000e-01+6.1232340e-17j,\n",
       "            5.00000000e-01-6.1232340e-17j, -5.00000000e-01+1.2246468e-16j],\n",
       "          [ 5.00000000e-01+0.0000000e+00j, -9.18485099e-17-5.0000000e-01j,\n",
       "           -5.00000000e-01+6.1232340e-17j,  1.53080850e-16+5.0000000e-01j]],\n",
       "         input_dims=(2, 2), output_dims=(2, 2))"
      ]
     },
     "execution_count": 17,
     "metadata": {},
     "output_type": "execute_result"
    }
   ],
   "source": [
    "backend = Aer.get_backend('unitary_simulator')\n",
    "job = execute(qc, backend)\n",
    "result = job.result()\n",
    "unitary_mat = result.get_unitary()\n",
    "unitary_mat"
   ]
  },
  {
   "cell_type": "markdown",
   "id": "1a7fdbd1-97e6-419b-95d4-18abd28facfb",
   "metadata": {},
   "source": [
    "## 5. Recursos útiles\n",
    "\n",
    "* Los notebooks y sus referencias.\n",
    "\n",
    "## Donaciones\n",
    "<br>\n",
    "<center>\n",
    "Puedes donar una vez en el siguiente enlace (Ko-Fi):\n",
    "\n",
    "<br>\n",
    "    \n",
    "*Click en la imagen.*\n",
    "\n",
    "<a href=\"https://ko-fi.com/rcrdphysics\">\n",
    "<img src=\"https://habrastorage.org/webt/8r/ml/xf/8rmlxfpdzukegpxa62cxlfvgkqe.png\" width=20% />\n",
    "\n",
    "</center>"
   ]
  },
  {
   "cell_type": "code",
   "execution_count": null,
   "id": "b44c66ff-164f-499b-a270-87639b7ee846",
   "metadata": {},
   "outputs": [],
   "source": []
  }
 ],
 "metadata": {
  "kernelspec": {
   "display_name": "Python 3 (ipykernel)",
   "language": "python",
   "name": "python3"
  },
  "language_info": {
   "codemirror_mode": {
    "name": "ipython",
    "version": 3
   },
   "file_extension": ".py",
   "mimetype": "text/x-python",
   "name": "python",
   "nbconvert_exporter": "python",
   "pygments_lexer": "ipython3",
   "version": "3.10.9"
  },
  "widgets": {
   "application/vnd.jupyter.widget-state+json": {
    "state": {},
    "version_major": 2,
    "version_minor": 0
   }
  }
 },
 "nbformat": 4,
 "nbformat_minor": 5
}
